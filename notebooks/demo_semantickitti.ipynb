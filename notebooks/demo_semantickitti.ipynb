{
 "cells": [
  {
   "cell_type": "code",
   "execution_count": null,
   "metadata": {},
   "outputs": [],
   "source": [
    "!HYDRA_FULL_ERROR=1\n",
    "\n",
    "%load_ext autoreload\n",
    "%autoreload 2\n",
    "import warnings\n",
    "warnings.filterwarnings(\"ignore\")\n",
    "\n",
    "from plotly.offline import init_notebook_mode\n",
    "init_notebook_mode(connected = True)\n",
    "\n",
    "import sys, os\n",
    "sys.path.append(\"../\")\n",
    "\n",
    "import hydra\n",
    "import pytorch_lightning as pl\n",
    "import logging\n",
    "\n",
    "pl.utilities.distributed.log.setLevel(logging.ERROR)\n",
    "\n",
    "hydra.initialize(config_path=\"../configs\")\n",
    "cfg = hydra.compose(config_name=\"data/semantic-kitti.yaml\")\n",
    "cfg.data.data_dir = os.path.join(\"../\", cfg.data.data_dir)\n",
    "\n",
    "import numpy as np"
   ]
  },
  {
   "cell_type": "code",
   "execution_count": null,
   "metadata": {},
   "outputs": [],
   "source": [
    "datamodule = hydra.utils.instantiate(cfg.data)\n",
    "datamodule.setup()\n",
    "\n",
    "tag = \"train\""
   ]
  },
  {
   "cell_type": "code",
   "execution_count": null,
   "metadata": {
    "scrolled": false
   },
   "outputs": [],
   "source": [
    "len_dataset = len(getattr(datamodule, f\"{tag}_dataset\"))\n",
    "\n",
    "for _ in range(2):\n",
    "    item = getattr(datamodule, f\"{tag}_dataset\")[np.random.randint(len_dataset)]\n",
    "    \n",
    "    datamodule.show_2d(item, \"y;slice;voxel\")\n",
    "    datamodule.show_3d(item, \"y;slice;voxel\")"
   ]
  }
 ],
 "metadata": {
  "interpreter": {
   "hash": "f66f361b60a0f669a83bf49483502faf91b64305c31842951638f8f87d6b5230"
  },
  "kernelspec": {
   "display_name": "Python 3 (ipykernel)",
   "language": "python",
   "name": "python3"
  },
  "language_info": {
   "codemirror_mode": {
    "name": "ipython",
    "version": 3
   },
   "file_extension": ".py",
   "mimetype": "text/x-python",
   "name": "python",
   "nbconvert_exporter": "python",
   "pygments_lexer": "ipython3",
   "version": "3.9.7"
  }
 },
 "nbformat": 4,
 "nbformat_minor": 2
}
